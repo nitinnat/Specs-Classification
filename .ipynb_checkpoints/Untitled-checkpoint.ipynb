{
 "cells": [
  {
   "cell_type": "code",
   "execution_count": 16,
   "metadata": {},
   "outputs": [],
   "source": [
    "from scipy import ndimage\n",
    "import os\n",
    "import matplotlib.pyplot as plt\n",
    "import numpy as np\n",
    "import pickle\n",
    "%matplotlib inline\n",
    "\n"
   ]
  },
  {
   "cell_type": "code",
   "execution_count": 21,
   "metadata": {},
   "outputs": [],
   "source": [
    "#Read the labels and check how many of each type exist\n",
    "labelPath = '../Anno/list_attr_celeba.txt'\n",
    "labels = []\n",
    "with open(labelPath,'r') as f:\n",
    "    count = 0\n",
    "    for line in f.readlines():\n",
    "        if count == 0:\n",
    "            numLabels = int(line.split('\\n')[0])\n",
    "        if count == 1:\n",
    "            columns = line.split()\n",
    "            labelIndex = columns.index('Eyeglasses')\n",
    "        if count >= 2:\n",
    "            labels.append(int(line.split()[labelIndex]))\n",
    "        count += 1\n",
    "labels = np.array(labels)        "
   ]
  },
  {
   "cell_type": "code",
   "execution_count": 23,
   "metadata": {},
   "outputs": [
    {
     "name": "stdout",
     "output_type": "stream",
     "text": [
      "No. of images with eyeglasses: 9459 \n",
      "No. of images with no eyeglasses: 193140 \n"
     ]
    }
   ],
   "source": [
    "unique, counts = np.unique(labels, return_counts=True)\n",
    "labelCounts = dict(zip(unique, counts))\n",
    "numNoGlasses = labelCounts[-1]\n",
    "numGlasses = labelCounts[1]\n",
    "print(\"No. of images with eyeglasses: %d \" %(numGlasses) )\n",
    "print(\"No. of images with no eyeglasses: %d \" %(numNoGlasses) )"
   ]
  },
  {
   "cell_type": "code",
   "execution_count": 34,
   "metadata": {},
   "outputs": [
    {
     "name": "stdout",
     "output_type": "stream",
     "text": [
      "Shape of downsampled labels is:  (15000,)\n"
     ]
    }
   ],
   "source": [
    "#The dataset is highly skewed. We need to downsample the \"No Glasses\" category\n",
    "\n",
    "noGlassesInds = np.argwhere(labels == -1).flatten()\n",
    "noGlassesIndsDownsampled = np.random.choice(noGlassesInds,15000)\n",
    "print(\"Shape of downsampled labels is: \", str(noGlassesIndsDownsampled.shape))\n",
    "\n",
    "#Now the images with these indices need to be acquired\n"
   ]
  },
  {
   "cell_type": "code",
   "execution_count": 38,
   "metadata": {},
   "outputs": [
    {
     "name": "stdout",
     "output_type": "stream",
     "text": [
      "Shape of images: (14419, 116412, 1)\n"
     ]
    }
   ],
   "source": [
    "#Read the data\n",
    "dataFolder = \"../img_align_celeba/img_align_celeba\"\n",
    "\n",
    "class read_data:\n",
    "    def __init__(self,path):\n",
    "        self.path = path\n",
    "        dirContents = list(os.walk(path))\n",
    "        self.fnames = [fname for fname in dirContents[0][2] if '.jpg' in fname]\n",
    "        self.nImages = len(self.fnames)\n",
    "        #Get the shape of the images\n",
    "        fpath = os.path.join(self.path,self.fnames[0])\n",
    "        im = plt.imread(fpath)\n",
    "        self.rowLength,self.colLength,self.channels = im.shape\n",
    "        self.images = []\n",
    "    def read_data(self,indices):\n",
    "        count = 0\n",
    "        for i, fname in enumerate(self.fnames):\n",
    "            if count in indices:\n",
    "                fpath = os.path.join(self.path,fname)\n",
    "                #Read Image\n",
    "                im = plt.imread(fpath)\n",
    "                #Append to array\n",
    "                im = im.flatten().reshape((-1,1))\n",
    "                self.images.append(im)\n",
    "            count += 1\n",
    "        self.images = np.array(self.images)\n",
    "        return self.images\n",
    "    def save_data(self,pklFileName):\n",
    "        fileHandle = open(pklFileName,'w')\n",
    "        pickle.dump(self.images,)\n",
    "            \n",
    "        \n",
    "r = read_data(dataFolder)\n",
    "ims = r.read_data(noGlassesIndsDownsampled)\n",
    "#Let's look at the size of the images\n",
    "print(\"Shape of images: \" + str(ims.shape))"
   ]
  },
  {
   "cell_type": "code",
   "execution_count": null,
   "metadata": {},
   "outputs": [],
   "source": [
    "##Loading images batch-wise based on indices and filenames."
   ]
  }
 ],
 "metadata": {
  "kernelspec": {
   "display_name": "Python 3",
   "language": "python",
   "name": "python3"
  },
  "language_info": {
   "codemirror_mode": {
    "name": "ipython",
    "version": 3
   },
   "file_extension": ".py",
   "mimetype": "text/x-python",
   "name": "python",
   "nbconvert_exporter": "python",
   "pygments_lexer": "ipython3",
   "version": "3.5.4"
  }
 },
 "nbformat": 4,
 "nbformat_minor": 2
}
